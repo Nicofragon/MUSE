{
 "cells": [
  {
   "cell_type": "markdown",
   "id": "13590bab-1876-4b2c-b8f3-34fb2caa7358",
   "metadata": {},
   "source": [
    "## SQL Queries - Case Study for Muse group\n",
    "---\n",
    "Candidate: **Nicolas Frate**"
   ]
  },
  {
   "cell_type": "code",
   "execution_count": 1,
   "id": "73968b2f-c0a3-4f7d-8943-d11426f419d2",
   "metadata": {
    "tags": [
     "remove_cell"
    ]
   },
   "outputs": [],
   "source": [
    "# Loading configurations\n",
    "from pyspark.sql import SQLContext\n",
    "from pyspark.sql.types import *\n",
    "from pyspark.sql import DataFrame\n",
    "import pyspark.sql.functions as F\n",
    "from pyspark.conf import SparkConf\n",
    "from pyspark.context import SparkContext\n",
    "from pyspark.sql import SparkSession\n",
    "from functools import reduce\n",
    "import pandas as pd\n",
    "import numpy as np \n",
    "import seaborn as sns\n",
    "import matplotlib.pyplot as plt\n",
    "import time \n",
    "from datetime import datetime, date, timedelta\n",
    "\n",
    "\n",
    "app_name = \"MUSE SQL\"\n",
    "\n",
    "# setup spark configs\n",
    "conf = SparkConf().setAppName(app_name)\\\n",
    "    .set(\"spark.dynamicAllocation.maxExecutors\", 143)\\\n",
    "    .set('spark.rpc.message.maxSize','256')\\\n",
    "    .set(\"spark.sql.orc.impl\", \"native\")\\\n",
    "    .set(\"spark.sql.hive.convertMetastoreOrc\", \"true\")\\\n",
    "    .set(\"spark.sql.orc.enableVectorizedReader\", \"true\")\\\n",
    "    .set(\"spark.sql.execution.arrow.pyspark.enabled\", \"false\")\\\n",
    "    .set(\"spark.sql.sources.partitionOverwriteMode\",\"dynamic\")\\\n",
    "    .set(\"spark.sql.qubole.directWrites.dataSourceDynamicParitionOverwrite.enabled\", \"true\")\\\n",
    "    .set(\"spark.sql.qubole.directWrites.dynamicPartitionOverwrite.enabled\", \"true\")\\\n",
    "    .set(\"spark.sql.repl.eagerEval.enabled\", \"true\")\\\n",
    "    .set('spark.sql.legacy.timeParserPolicy','LEGACY')\\\n",
    "    .set(\"hive.exec.dynamic.partition\", \"true\")\\\n",
    "    .set(\"hive.exec.dynamic.partition.mode\", \"nonstrict\")\\\n",
    "    .set(\"spark.sql.catalog.spark_catalog\", \"org.apache.iceberg.spark.SparkSessionCatalog\")\\\n",
    "    .set(\"spark.sql.catalog.spark_catalog.type\", \"hive\")\\\n",
    "    .set(\"spark.sql.extensions\", \"org.apache.iceberg.spark.extensions.IcebergSparkSessionExtensions\")\n",
    "    \n",
    "sc = SparkContext(conf = conf)\n",
    "\n",
    "spark = SparkSession.builder.enableHiveSupport()\\\n",
    "        .config(conf=conf)\\\n",
    "        .getOrCreate()"
   ]
  },
  {
   "cell_type": "code",
   "execution_count": 2,
   "id": "4fd41d2a-bed0-46d1-9c4e-6f83834e704d",
   "metadata": {
    "tags": []
   },
   "outputs": [],
   "source": [
    "events = spark.createDataFrame(pd.read_csv('Events.csv')).dropna()\n",
    "sales = spark.createDataFrame(pd.read_csv('Sales.csv')).dropna()\n",
    "\n",
    "events.createOrReplaceTempView('events_data')\n",
    "sales.createOrReplaceTempView('sales_data')"
   ]
  },
  {
   "cell_type": "markdown",
   "id": "94b3d973-c2e4-4004-95fc-c9041add7921",
   "metadata": {},
   "source": [
    "### Build an event funnel for the data via query\n",
    "---"
   ]
  },
  {
   "cell_type": "code",
   "execution_count": 3,
   "id": "da77dcbd-3ae2-4ee3-90c8-eeebcace7cfa",
   "metadata": {
    "tags": []
   },
   "outputs": [
    {
     "data": {
      "text/html": [
       "<table><tr style=\"border-bottom: 1px solid\"><td style=\"font-weight: bold\">eventname</td><td style=\"font-weight: bold\">sessions</td><td style=\"font-weight: bold\">totalusers</td></tr><tr><td>page_view</td><td>3317710.0</td><td>3022549.0</td></tr><tr><td>view_item</td><td>3112322.0</td><td>2912252.0</td></tr><tr><td>subcription_view</td><td>160363.0</td><td>157267.0</td></tr><tr><td>add_to_cart</td><td>153734.0</td><td>148780.0</td></tr><tr><td>purchase</td><td>104873.0</td><td>102905.0</td></tr></table>"
      ],
      "text/plain": [
       "<IPython.core.display.HTML object>"
      ]
     },
     "execution_count": 3,
     "metadata": {},
     "output_type": "execute_result"
    }
   ],
   "source": [
    "%%sparksql\n",
    "\n",
    "select\n",
    "eventname\n",
    ",sum(sessions) as sessions\n",
    ",sum(totalusers) as totalusers\n",
    "from events_data\n",
    "group by 1\n",
    "order by 2 desc"
   ]
  },
  {
   "cell_type": "markdown",
   "id": "42477226-c65f-45f7-9d9d-8f4ebb9f942b",
   "metadata": {},
   "source": [
    "### Separate by Pass and OTP\n",
    "---"
   ]
  },
  {
   "cell_type": "code",
   "execution_count": 4,
   "id": "bd278bf9-ddc4-4525-9ab0-67554c005237",
   "metadata": {
    "tags": []
   },
   "outputs": [
    {
     "data": {
      "text/html": [
       "<table><tr style=\"border-bottom: 1px solid\"><td style=\"font-weight: bold\">purchaseType</td><td style=\"font-weight: bold\">eventname</td><td style=\"font-weight: bold\">sessions</td><td style=\"font-weight: bold\">totalusers</td></tr><tr><td>NaN</td><td>page_view</td><td>3317710.0</td><td>3022549.0</td></tr><tr><td>NaN</td><td>view_item</td><td>3112322.0</td><td>2912252.0</td></tr><tr><td>OTP</td><td>add_to_cart</td><td>153734.0</td><td>148780.0</td></tr><tr><td>OTP</td><td>purchase</td><td>92307.0</td><td>90343.0</td></tr><tr><td>Subscription</td><td>subcription_view</td><td>160363.0</td><td>157267.0</td></tr><tr><td>Subscription</td><td>purchase</td><td>12566.0</td><td>12562.0</td></tr></table>"
      ],
      "text/plain": [
       "<IPython.core.display.HTML object>"
      ]
     },
     "execution_count": 4,
     "metadata": {},
     "output_type": "execute_result"
    }
   ],
   "source": [
    "%%sparksql -l 30\n",
    "\n",
    "select\n",
    "purchaseType\n",
    ",eventname\n",
    "\n",
    ",sum(sessions) as sessions\n",
    ",sum(totalusers) as totalusers\n",
    "\n",
    "from events_data\n",
    "group by 1,2\n",
    "order by 1,3 desc"
   ]
  },
  {
   "cell_type": "markdown",
   "id": "0d1ccb16-797d-44e9-b5b3-e2239b2dbb19",
   "metadata": {},
   "source": [
    "Conversion Rate by Purchase type"
   ]
  },
  {
   "cell_type": "code",
   "execution_count": 5,
   "id": "939dec3c-38fb-485c-a7a1-3a24cbf5300a",
   "metadata": {
    "tags": []
   },
   "outputs": [
    {
     "data": {
      "text/html": [
       "<table><tr style=\"border-bottom: 1px solid\"><td style=\"font-weight: bold\">purchaseType</td><td style=\"font-weight: bold\">conversion_rate</td></tr><tr><td>Subscription</td><td>0.07987689725117157</td></tr><tr><td>OTP</td><td>0.6072254335260115</td></tr></table>"
      ],
      "text/plain": [
       "<IPython.core.display.HTML object>"
      ]
     },
     "execution_count": 5,
     "metadata": {},
     "output_type": "execute_result"
    }
   ],
   "source": [
    "%%sparksql -l 30\n",
    "\n",
    "with data as (\n",
    "    select\n",
    "    purchaseType\n",
    "    ,eventname\n",
    "\n",
    "    ,sum(sessions) as sessions\n",
    "    ,sum(totalusers) as totalusers\n",
    "\n",
    "    from events_data\n",
    "    group by 1,2\n",
    "    order by 1,3 desc\n",
    ")\n",
    "\n",
    "select\n",
    "purchaseType \n",
    ",sum(case when eventname in ('purchase') then totalusers end) / sum(case when eventname in ('add_to_cart', 'subcription_view') then totalusers end) as conversion_rate\n",
    "from data\n",
    "where purchaseType != 'NaN'\n",
    "group by 1"
   ]
  },
  {
   "cell_type": "markdown",
   "id": "bec62fd3-da8e-4ef3-a1c5-739f5dd1ba2e",
   "metadata": {},
   "source": [
    "### How should the funnels differ? What might explain the difference?\n",
    "---\n",
    "The main difference I see is the conversion volumes. OTP types have a huge CR of 60% compare to 7% in Subscription and this make sense as both are very different source of revenue or alternatives for the customers"
   ]
  },
  {
   "cell_type": "markdown",
   "id": "33e1157a-0c90-4752-a253-d1553d2b3121",
   "metadata": {},
   "source": [
    "### Compare difference in traffic & conversion rates month over month\n",
    "> How would we determine if conversion rate has improved?\n",
    "---"
   ]
  },
  {
   "cell_type": "markdown",
   "id": "ac9676ef-f5ae-46ab-9192-a914f64b7cc8",
   "metadata": {},
   "source": [
    "**Pulling the data to answer the questions**  \n",
    "First I build a query with aggregations by date, in order to have a raw table from where to calculate other metrics ⬇"
   ]
  },
  {
   "cell_type": "code",
   "execution_count": 6,
   "id": "ddb68ce1-06ba-4e5a-b7f7-50e02f51aae9",
   "metadata": {
    "tags": []
   },
   "outputs": [
    {
     "name": "stdout",
     "output_type": "stream",
     "text": [
      "only showing top 20 row(s)\n"
     ]
    },
    {
     "data": {
      "text/html": [
       "<table><tr style=\"border-bottom: 1px solid\"><td style=\"font-weight: bold\">event_date</td><td style=\"font-weight: bold\">sessions</td><td style=\"font-weight: bold\">totalusers</td><td style=\"font-weight: bold\">subscription</td><td style=\"font-weight: bold\">otp</td><td style=\"font-weight: bold\">users_subcription_view</td><td style=\"font-weight: bold\">users_subcription_purchase</td><td style=\"font-weight: bold\">users_otp_view</td><td style=\"font-weight: bold\">users_otp_purchase</td></tr><tr><td>2024-05-30</td><td>102307.0</td><td>94095.0</td><td>4667.31</td><td>16316.3</td><td>2916.0</td><td>205.0</td><td>2222.0</td><td>1352.0</td></tr><tr><td>2024-05-25</td><td>90311.0</td><td>83222.0</td><td>10595.4</td><td>9744.46</td><td>2538.0</td><td>142.0</td><td>1681.0</td><td>965.0</td></tr><tr><td>2024-04-20</td><td>110240.0</td><td>101759.0</td><td>9302.79</td><td>11988.89</td><td>2998.0</td><td>231.0</td><td>2117.0</td><td>1219.0</td></tr><tr><td>2024-05-19</td><td>92461.0</td><td>85657.0</td><td>10314.1</td><td>12609.94</td><td>2632.0</td><td>159.0</td><td>1873.0</td><td>1131.0</td></tr><tr><td>2024-04-08</td><td>116419.0</td><td>107026.0</td><td>9586.1</td><td>21018.13</td><td>913.0</td><td>162.0</td><td>2475.0</td><td>1530.0</td></tr><tr><td>2024-04-02</td><td>120163.0</td><td>110960.0</td><td>9036.06</td><td>20689.49</td><td>1023.0</td><td>187.0</td><td>2677.0</td><td>1673.0</td></tr><tr><td>2024-04-06</td><td>102045.0</td><td>94855.0</td><td>8537.47</td><td>11860.95</td><td>791.0</td><td>129.0</td><td>1951.0</td><td>1112.0</td></tr><tr><td>2024-04-27</td><td>105859.0</td><td>99160.0</td><td>9615.94</td><td>11844.67</td><td>1957.0</td><td>157.0</td><td>2002.0</td><td>1186.0</td></tr><tr><td>2024-05-05</td><td>112418.0</td><td>103674.0</td><td>9924.4</td><td>15192.96</td><td>3218.0</td><td>204.0</td><td>2686.0</td><td>1670.0</td></tr><tr><td>2024-05-29</td><td>105472.0</td><td>97766.0</td><td>10107.49</td><td>16265.16</td><td>3087.0</td><td>206.0</td><td>2203.0</td><td>1350.0</td></tr><tr><td>2024-04-15</td><td>127607.0</td><td>118101.0</td><td>8784.32</td><td>21915.76</td><td>1865.0</td><td>207.0</td><td>2991.0</td><td>1786.0</td></tr><tr><td>2024-05-23</td><td>104573.0</td><td>96941.0</td><td>10740.3</td><td>15847.75</td><td>2978.0</td><td>197.0</td><td>2217.0</td><td>1320.0</td></tr><tr><td>2024-04-24</td><td>126066.0</td><td>116482.0</td><td>7888.25</td><td>20900.76</td><td>3707.0</td><td>268.0</td><td>2755.0</td><td>1763.0</td></tr><tr><td>2024-04-13</td><td>104490.0</td><td>96000.0</td><td>8669.11</td><td>11960.43</td><td>687.0</td><td>105.0</td><td>2033.0</td><td>1153.0</td></tr><tr><td>2024-04-14</td><td>103147.0</td><td>95927.0</td><td>8920.73</td><td>15091.9</td><td>786.0</td><td>156.0</td><td>2125.0</td><td>1239.0</td></tr><tr><td>2024-04-18</td><td>124099.0</td><td>115585.0</td><td>9697.91</td><td>20830.98</td><td>3865.0</td><td>240.0</td><td>2889.0</td><td>1798.0</td></tr><tr><td>2024-05-08</td><td>115652.0</td><td>108306.0</td><td>9783.15</td><td>19688.84</td><td>3389.0</td><td>241.0</td><td>2624.0</td><td>1589.0</td></tr><tr><td>2024-04-23</td><td>124978.0</td><td>117223.0</td><td>8614.25</td><td>21289.15</td><td>3740.0</td><td>265.0</td><td>2837.0</td><td>1817.0</td></tr><tr><td>2024-04-25</td><td>122901.0</td><td>113657.0</td><td>9622.54</td><td>19405.36</td><td>3475.0</td><td>265.0</td><td>2684.0</td><td>1657.0</td></tr><tr><td>2024-05-21</td><td>111456.0</td><td>103496.0</td><td>9626.71</td><td>16987.82</td><td>3275.0</td><td>238.0</td><td>2514.0</td><td>1468.0</td></tr></table>"
      ],
      "text/plain": [
       "<IPython.core.display.HTML object>"
      ]
     },
     "execution_count": 6,
     "metadata": {},
     "output_type": "execute_result"
    }
   ],
   "source": [
    "%%sparksql\n",
    "\n",
    "select\n",
    "to_date(e.date, 'dd-MMM-yy') as event_date\n",
    "\n",
    ",sum(sessions) as sessions\n",
    ",sum(totalusers) as totalusers\n",
    "\n",
    ",s.subscription\n",
    ",s.otp\n",
    "\n",
    ",sum(case when e.purchaseType = 'Subscription' and e.eventname= 'subcription_view' then e.totalusers end) as users_subcription_view\n",
    ",sum(case when e.purchaseType = 'Subscription' and e.eventname= 'purchase' then e.totalusers end) as users_subcription_purchase\n",
    "\n",
    ",sum(case when e.purchaseType = 'OTP' and e.eventname= 'add_to_cart' then e.totalusers end) as users_otp_view\n",
    ",sum(case when e.purchaseType = 'OTP' and e.eventname= 'purchase' then e.totalusers end) as users_otp_purchase\n",
    "\n",
    "from events_data e\n",
    "left join sales_data s on to_date(e.date, 'dd-MMM-yy') = to_date(s.date, 'MM/dd/yyyy')\n",
    "\n",
    "group by 1,4,5"
   ]
  },
  {
   "cell_type": "markdown",
   "id": "c7147b34-3603-4afa-9eaf-072027488688",
   "metadata": {},
   "source": [
    "On top of this table I calculate the rest of the metrics where we can easily change the granularity by day, week, month ⬇"
   ]
  },
  {
   "cell_type": "code",
   "execution_count": 7,
   "id": "bdc95a89-579c-4d6a-9797-c272c0b276f7",
   "metadata": {
    "tags": []
   },
   "outputs": [
    {
     "data": {
      "text/html": [
       "<table><tr style=\"border-bottom: 1px solid\"><td style=\"font-weight: bold\">event_month</td><td style=\"font-weight: bold\">sessions</td><td style=\"font-weight: bold\">total_users</td><td style=\"font-weight: bold\">sub_conversion_rate</td><td style=\"font-weight: bold\">otp_conversion_rate</td><td style=\"font-weight: bold\">subscription_sales</td><td style=\"font-weight: bold\">otp_sales</td><td style=\"font-weight: bold\">avg_subscription_order_value</td><td style=\"font-weight: bold\">avg_otp_order_value</td><td style=\"font-weight: bold\">arpu_tota_users</td><td style=\"font-weight: bold\">arpu__active_users</td></tr><tr><td>2024-04-01</td><td>3520569.0</td><td>3264714.0</td><td>9.82</td><td>61.36</td><td>270680.37</td><td>549383.18</td><td>44.65199109204884</td><td>11.790097645771185</td><td>0.2511900123563657</td><td>5.956474258403789</td></tr><tr><td>2024-05-01</td><td>3328433.0</td><td>3079039.0</td><td>6.8</td><td>60.06</td><td>287396.7</td><td>504725.82</td><td>44.214876923076915</td><td>11.537645041832395</td><td>0.2572629057313012</td><td>4.704625618425975</td></tr></table>"
      ],
      "text/plain": [
       "<IPython.core.display.HTML object>"
      ]
     },
     "execution_count": 7,
     "metadata": {},
     "output_type": "execute_result"
    }
   ],
   "source": [
    "%%sparksql -l 30\n",
    "\n",
    "with muse_data as (\n",
    "\n",
    "    select\n",
    "    to_date(e.date, 'dd-MMM-yy') as event_date\n",
    "\n",
    "    ,sum(sessions) as sessions\n",
    "    ,sum(totalusers) as totalusers\n",
    "\n",
    "    ,s.subscription\n",
    "    ,s.otp\n",
    "\n",
    "    ,sum(case when e.purchaseType = 'Subscription' and e.eventname= 'subcription_view' then e.totalusers end) as users_subcription_view\n",
    "    ,sum(case when e.purchaseType = 'Subscription' and e.eventname= 'purchase' then e.totalusers end) as users_subcription_purchase\n",
    "\n",
    "    ,sum(case when e.purchaseType = 'OTP' and e.eventname= 'add_to_cart' then e.totalusers end) as users_otp_view\n",
    "    ,sum(case when e.purchaseType = 'OTP' and e.eventname= 'purchase' then e.totalusers end) as users_otp_purchase\n",
    "\n",
    "    from events_data e\n",
    "    left join sales_data s on to_date(e.date, 'dd-MMM-yy') = to_date(s.date, 'MM/dd/yyyy')\n",
    "\n",
    "    group by 1,4,5\n",
    "\n",
    ")\n",
    "\n",
    "select\n",
    "\n",
    "date(date_trunc('month', event_date)) as event_month\n",
    ",sum(sessions) as sessions\n",
    ",sum(totalusers) as total_users\n",
    ",round((sum(users_subcription_purchase) / sum(users_subcription_view))*100,2) as sub_conversion_rate\n",
    ",round((sum(users_otp_purchase) / sum(users_otp_view))*100,2) as otp_conversion_rate\n",
    "\n",
    ",round(sum(subscription),2) as subscription_sales\n",
    ",round(sum(otp),2) as otp_sales\n",
    ",sum(subscription) / sum(users_subcription_purchase) as avg_subscription_order_value\n",
    ",sum(otp) / sum(users_otp_purchase) as avg_otp_order_value\n",
    "\n",
    "\n",
    ",(sum(subscription) + sum(otp)) / sum(totalusers) as arpu_tota_users\n",
    ",(sum(subscription) + sum(otp)) / (sum(users_subcription_view) + sum(users_otp_view)) as arpu__active_users\n",
    "\n",
    "from muse_data\n",
    "\n",
    "group by 1\n",
    "\n",
    "order by 1 "
   ]
  },
  {
   "cell_type": "code",
   "execution_count": 8,
   "id": "102f72ac-180f-4af8-b34c-cb43b94544a8",
   "metadata": {
    "tags": []
   },
   "outputs": [
    {
     "data": {
      "text/html": [
       "<table><tr style=\"border-bottom: 1px solid\"><td style=\"font-weight: bold\">event_month</td><td style=\"font-weight: bold\">sessions</td><td style=\"font-weight: bold\">total_users</td><td style=\"font-weight: bold\">sub_conversion_rate</td><td style=\"font-weight: bold\">otp_conversion_rate</td><td style=\"font-weight: bold\">subscription_sales</td><td style=\"font-weight: bold\">otp_sales</td><td style=\"font-weight: bold\">avg_subscription_order_value</td><td style=\"font-weight: bold\">avg_otp_order_value</td><td style=\"font-weight: bold\">arpu_tota_users</td><td style=\"font-weight: bold\">arpu_active_users</td></tr><tr><td>2024-04-01</td><td>796330.0</td><td>737270.0</td><td>18.69</td><td>60.57</td><td>63271.42</td><td>119055.56</td><td>52.29042975206612</td><td>11.376546583850931</td><td>0.24730014784271703</td><td>7.676279050185247</td></tr><tr><td>2024-04-08</td><td>803217.0</td><td>741340.0</td><td>18.41</td><td>60.97</td><td>61886.68</td><td>127245.24</td><td>55.85440433212996</td><td>12.363509521958802</td><td>0.25512169854587635</td><td>8.25939648019564</td></tr><tr><td>2024-04-15</td><td>848328.0</td><td>790152.0</td><td>7.71</td><td>61.0</td><td>63691.79</td><td>132219.72</td><td>37.93435973793925</td><td>11.53951125850934</td><td>0.24794154795533013</td><td>4.830760941930712</td></tr><tr><td>2024-04-22</td><td>827792.0</td><td>770095.0</td><td>7.53</td><td>62.1</td><td>65666.14</td><td>125647.74</td><td>40.86256378344742</td><td>11.488318551705222</td><td>0.24842893409254702</td><td>4.9127903035283245</td></tr><tr><td>2024-04-29</td><td>824520.0</td><td>761771.0</td><td>6.97</td><td>63.77</td><td>63395.41</td><td>133206.82</td><td>40.327868956743</td><td>11.357048341717112</td><td>0.2580857370522112</td><td>4.801031257631258</td></tr><tr><td>2024-05-06</td><td>762094.0</td><td>705291.0</td><td>7.03</td><td>59.14</td><td>64821.11</td><td>115226.03</td><td>42.009792611795206</td><td>11.508792449061126</td><td>0.2552806430253612</td><td>4.629651324247879</td></tr><tr><td>2024-05-13</td><td>752668.0</td><td>700630.0</td><td>6.7</td><td>58.45</td><td>67344.23</td><td>114756.47</td><td>46.38032369146006</td><td>11.485984385947352</td><td>0.2599099381984785</td><td>4.697433317855853</td></tr><tr><td>2024-05-20</td><td>718037.0</td><td>661977.0</td><td>6.64</td><td>59.09</td><td>68731.28</td><td>107367.2</td><td>50.205463842220595</td><td>12.107262065854759</td><td>0.2660190308726738</td><td>4.942560273934154</td></tr><tr><td>2024-05-27</td><td>516016.0</td><td>475227.0</td><td>6.88</td><td>60.99</td><td>39269.01</td><td>79384.22</td><td>38.423688845401166</td><td>12.044336216052193</td><td>0.24967695438180068</td><td>4.623333463216958</td></tr></table>"
      ],
      "text/plain": [
       "<IPython.core.display.HTML object>"
      ]
     },
     "execution_count": 8,
     "metadata": {},
     "output_type": "execute_result"
    }
   ],
   "source": [
    "%%sparksql -l 30\n",
    "\n",
    "with muse_data as (\n",
    "\n",
    "    select\n",
    "    to_date(e.date, 'dd-MMM-yy') as event_date\n",
    "\n",
    "    ,sum(sessions) as sessions\n",
    "    ,sum(totalusers) as totalusers\n",
    "\n",
    "    ,s.subscription\n",
    "    ,s.otp\n",
    "\n",
    "    ,sum(case when e.purchaseType = 'Subscription' and e.eventname= 'subcription_view' then e.totalusers end) as users_subcription_view\n",
    "    ,sum(case when e.purchaseType = 'Subscription' and e.eventname= 'purchase' then e.totalusers end) as users_subcription_purchase\n",
    "\n",
    "    ,sum(case when e.purchaseType = 'OTP' and e.eventname= 'add_to_cart' then e.totalusers end) as users_otp_view\n",
    "    ,sum(case when e.purchaseType = 'OTP' and e.eventname= 'purchase' then e.totalusers end) as users_otp_purchase\n",
    "\n",
    "    from events_data e\n",
    "    left join sales_data s on to_date(e.date, 'dd-MMM-yy') = to_date(s.date, 'MM/dd/yyyy')\n",
    "\n",
    "    group by 1,4,5\n",
    "\n",
    ")\n",
    "\n",
    "select\n",
    "\n",
    "date(date_trunc('week', event_date)) as event_month\n",
    ",sum(sessions) as sessions\n",
    ",sum(totalusers) as total_users\n",
    ",round((sum(users_subcription_purchase) / sum(users_subcription_view))*100,2) as sub_conversion_rate\n",
    ",round((sum(users_otp_purchase) / sum(users_otp_view))*100,2) as otp_conversion_rate\n",
    "\n",
    ",round(sum(subscription),2) as subscription_sales\n",
    ",round(sum(otp),2) as otp_sales\n",
    ",sum(subscription) / sum(users_subcription_purchase) as avg_subscription_order_value\n",
    ",sum(otp) / sum(users_otp_purchase) as avg_otp_order_value\n",
    "\n",
    "\n",
    ",(sum(subscription) + sum(otp)) / sum(totalusers) as arpu_tota_users\n",
    ",(sum(subscription) + sum(otp)) / (sum(users_subcription_view) + sum(users_otp_view)) as arpu_active_users\n",
    "\n",
    "from muse_data\n",
    "\n",
    "group by 1\n",
    "\n",
    "order by 1 "
   ]
  },
  {
   "cell_type": "markdown",
   "id": "2d70e9ed-876a-4e59-87c6-4420b0bc2dff",
   "metadata": {},
   "source": [
    "> How would we determine if conversion rate has improved?  \n",
    "We can track the weekly/monthly performance trying to see if there is a positive change on the trend. Also we can try to measure incrementality of mkt campaigns as positive signs of improvement. \n",
    "\n",
    "### Revenue and CR Analysis\n",
    "\n",
    "- **Traffic:** Sessions and users decrease by -5% MoM, this might be due to natural monthly fluctation (like seasonality)\n",
    "- **Conversion Rate:**  \n",
    "    - Subscription has a drop of 3 points and OTP seems to have an stable performance arround 60% (+/- 1.6% standard deviation)\n",
    "    - Weekly Subscription CR have a negative trend, there is a drop of 11 points from Abril to end of May\n",
    "- **AOV**\n",
    "    - subscription: 44  \n",
    "    - OTP: 11\n",
    "- **ARPU**\n",
    "    - It's not clear from the data if 'total_uses' are active/unique users, im calculating 2 'types' of ARPU value:\n",
    "    - **ARPU total users:** 0.25 --> total sales (Sub + OTP) over Total users\n",
    "    - **ARPU active users:** 5.48 --> for this exercise, Im assuming that only those users that trigger the event 'subcription_view' or 'add_to_cart' are active. This help to quantify how important is engagement with the brand/site\n",
    "    - Both ARPU calculation are very consistent, daily and weekly, with low volatility"
   ]
  },
  {
   "cell_type": "markdown",
   "id": "eca37e30-6200-412e-a224-6f2302838bc8",
   "metadata": {},
   "source": [
    "#### What would be your approach to measuring a revenue impact in A/B testing? What metrics would you use?\n",
    "\n",
    "I belive ARPU and Conversion rate are good metrics for an A/B test. Depending what do we want to test, the approach could be causal impact analysis with observational data to try to measure incrementality or testing changes within the product that could improve/optimize the funnel or some steps on it. "
   ]
  },
  {
   "cell_type": "code",
   "execution_count": 9,
   "id": "60170f95-b344-411e-a23d-f6d03138e524",
   "metadata": {
    "tags": []
   },
   "outputs": [
    {
     "data": {
      "text/html": [
       "<div>\n",
       "<style scoped>\n",
       "    .dataframe tbody tr th:only-of-type {\n",
       "        vertical-align: middle;\n",
       "    }\n",
       "\n",
       "    .dataframe tbody tr th {\n",
       "        vertical-align: top;\n",
       "    }\n",
       "\n",
       "    .dataframe thead th {\n",
       "        text-align: right;\n",
       "    }\n",
       "</style>\n",
       "<table border=\"1\" class=\"dataframe\">\n",
       "  <thead>\n",
       "    <tr style=\"text-align: right;\">\n",
       "      <th></th>\n",
       "      <th>sessions</th>\n",
       "      <th>totalusers</th>\n",
       "      <th>sub_cr</th>\n",
       "      <th>otp_cr</th>\n",
       "      <th>subscription_sales</th>\n",
       "      <th>otp_sales</th>\n",
       "      <th>avg_subscription_order_value</th>\n",
       "      <th>avg_otp_order_value</th>\n",
       "      <th>arpu_tota_users</th>\n",
       "      <th>arpu_active_users</th>\n",
       "    </tr>\n",
       "  </thead>\n",
       "  <tbody>\n",
       "    <tr>\n",
       "      <th>count</th>\n",
       "      <td>9.000000</td>\n",
       "      <td>9.000000</td>\n",
       "      <td>9.000000</td>\n",
       "      <td>9.000000</td>\n",
       "      <td>9.000000</td>\n",
       "      <td>9.000000</td>\n",
       "      <td>9.000000</td>\n",
       "      <td>9.000000</td>\n",
       "      <td>9.000000</td>\n",
       "      <td>9.000000</td>\n",
       "    </tr>\n",
       "    <tr>\n",
       "      <th>mean</th>\n",
       "      <td>761000.222222</td>\n",
       "      <td>704861.444444</td>\n",
       "      <td>9.617778</td>\n",
       "      <td>60.675556</td>\n",
       "      <td>62008.563333</td>\n",
       "      <td>117123.222222</td>\n",
       "      <td>44.920988</td>\n",
       "      <td>11.696812</td>\n",
       "      <td>0.254196</td>\n",
       "      <td>5.485915</td>\n",
       "    </tr>\n",
       "    <tr>\n",
       "      <th>std</th>\n",
       "      <td>100676.601006</td>\n",
       "      <td>94696.050558</td>\n",
       "      <td>5.076787</td>\n",
       "      <td>1.648166</td>\n",
       "      <td>8792.085134</td>\n",
       "      <td>16560.706703</td>\n",
       "      <td>6.528534</td>\n",
       "      <td>0.370768</td>\n",
       "      <td>0.006422</td>\n",
       "      <td>1.419103</td>\n",
       "    </tr>\n",
       "    <tr>\n",
       "      <th>min</th>\n",
       "      <td>516016.000000</td>\n",
       "      <td>475227.000000</td>\n",
       "      <td>6.640000</td>\n",
       "      <td>58.450000</td>\n",
       "      <td>39269.010000</td>\n",
       "      <td>79384.220000</td>\n",
       "      <td>37.934360</td>\n",
       "      <td>11.357048</td>\n",
       "      <td>0.247300</td>\n",
       "      <td>4.623333</td>\n",
       "    </tr>\n",
       "    <tr>\n",
       "      <th>25%</th>\n",
       "      <td>752668.000000</td>\n",
       "      <td>700630.000000</td>\n",
       "      <td>6.880000</td>\n",
       "      <td>59.140000</td>\n",
       "      <td>63271.420000</td>\n",
       "      <td>114756.470000</td>\n",
       "      <td>40.327869</td>\n",
       "      <td>11.485984</td>\n",
       "      <td>0.248429</td>\n",
       "      <td>4.697433</td>\n",
       "    </tr>\n",
       "    <tr>\n",
       "      <th>50%</th>\n",
       "      <td>796330.000000</td>\n",
       "      <td>737270.000000</td>\n",
       "      <td>7.030000</td>\n",
       "      <td>60.970000</td>\n",
       "      <td>63691.790000</td>\n",
       "      <td>119055.560000</td>\n",
       "      <td>42.009793</td>\n",
       "      <td>11.508792</td>\n",
       "      <td>0.255122</td>\n",
       "      <td>4.830761</td>\n",
       "    </tr>\n",
       "    <tr>\n",
       "      <th>75%</th>\n",
       "      <td>824520.000000</td>\n",
       "      <td>761771.000000</td>\n",
       "      <td>7.710000</td>\n",
       "      <td>61.000000</td>\n",
       "      <td>65666.140000</td>\n",
       "      <td>127245.240000</td>\n",
       "      <td>50.205464</td>\n",
       "      <td>12.044336</td>\n",
       "      <td>0.258086</td>\n",
       "      <td>4.942560</td>\n",
       "    </tr>\n",
       "    <tr>\n",
       "      <th>max</th>\n",
       "      <td>848328.000000</td>\n",
       "      <td>790152.000000</td>\n",
       "      <td>18.690000</td>\n",
       "      <td>63.770000</td>\n",
       "      <td>68731.280000</td>\n",
       "      <td>133206.820000</td>\n",
       "      <td>55.854404</td>\n",
       "      <td>12.363510</td>\n",
       "      <td>0.266019</td>\n",
       "      <td>8.259396</td>\n",
       "    </tr>\n",
       "  </tbody>\n",
       "</table>\n",
       "</div>"
      ],
      "text/plain": [
       "            sessions     totalusers     sub_cr     otp_cr  subscription_sales  \\\n",
       "count       9.000000       9.000000   9.000000   9.000000            9.000000   \n",
       "mean   761000.222222  704861.444444   9.617778  60.675556        62008.563333   \n",
       "std    100676.601006   94696.050558   5.076787   1.648166         8792.085134   \n",
       "min    516016.000000  475227.000000   6.640000  58.450000        39269.010000   \n",
       "25%    752668.000000  700630.000000   6.880000  59.140000        63271.420000   \n",
       "50%    796330.000000  737270.000000   7.030000  60.970000        63691.790000   \n",
       "75%    824520.000000  761771.000000   7.710000  61.000000        65666.140000   \n",
       "max    848328.000000  790152.000000  18.690000  63.770000        68731.280000   \n",
       "\n",
       "           otp_sales  avg_subscription_order_value  avg_otp_order_value  \\\n",
       "count       9.000000                      9.000000             9.000000   \n",
       "mean   117123.222222                     44.920988            11.696812   \n",
       "std     16560.706703                      6.528534             0.370768   \n",
       "min     79384.220000                     37.934360            11.357048   \n",
       "25%    114756.470000                     40.327869            11.485984   \n",
       "50%    119055.560000                     42.009793            11.508792   \n",
       "75%    127245.240000                     50.205464            12.044336   \n",
       "max    133206.820000                     55.854404            12.363510   \n",
       "\n",
       "       arpu_tota_users  arpu_active_users  \n",
       "count         9.000000           9.000000  \n",
       "mean          0.254196           5.485915  \n",
       "std           0.006422           1.419103  \n",
       "min           0.247300           4.623333  \n",
       "25%           0.248429           4.697433  \n",
       "50%           0.255122           4.830761  \n",
       "75%           0.258086           4.942560  \n",
       "max           0.266019           8.259396  "
      ]
     },
     "execution_count": 9,
     "metadata": {},
     "output_type": "execute_result"
    }
   ],
   "source": [
    "spark.sql(\"\"\"\n",
    "\n",
    "with muse_data as (\n",
    "\n",
    "    select\n",
    "    to_date(e.date, 'dd-MMM-yy') as event_date\n",
    "\n",
    "    ,sum(sessions) as sessions\n",
    "    ,sum(totalusers) as totalusers\n",
    "\n",
    "    ,s.subscription\n",
    "    ,s.otp\n",
    "\n",
    "    ,sum(case when e.purchaseType = 'Subscription' and e.eventname= 'subcription_view' then e.totalusers end) as users_subcription_view\n",
    "    ,sum(case when e.purchaseType = 'Subscription' and e.eventname= 'purchase' then e.totalusers end) as users_subcription_purchase\n",
    "\n",
    "    ,sum(case when e.purchaseType = 'OTP' and e.eventname= 'add_to_cart' then e.totalusers end) as users_otp_view\n",
    "    ,sum(case when e.purchaseType = 'OTP' and e.eventname= 'purchase' then e.totalusers end) as users_otp_purchase\n",
    "\n",
    "    from events_data e\n",
    "    left join sales_data s on to_date(e.date, 'dd-MMM-yy') = to_date(s.date, 'MM/dd/yyyy')\n",
    "\n",
    "    group by 1,4,5\n",
    "\n",
    ")\n",
    "\n",
    "select\n",
    "\n",
    "date_trunc('week', event_date) as event_month\n",
    ",sum(sessions) as sessions\n",
    ",sum(totalusers) as totalusers\n",
    ",round((sum(users_subcription_purchase) / sum(users_subcription_view))*100,2) as sub_cr\n",
    ",round((sum(users_otp_purchase) / sum(users_otp_view))*100,2) as otp_cr\n",
    "\n",
    ",round(sum(subscription),2) as subscription_sales\n",
    ",round(sum(otp),2) as otp_sales\n",
    ",sum(subscription) / sum(users_subcription_purchase) as avg_subscription_order_value\n",
    ",sum(otp) / sum(users_otp_purchase) as avg_otp_order_value\n",
    "\n",
    "\n",
    ",(sum(subscription) + sum(otp)) / sum(totalusers) as arpu_tota_users\n",
    ",(sum(subscription) + sum(otp)) / (sum(users_subcription_view) + sum(users_otp_view)) as arpu_active_users\n",
    "\n",
    "from muse_data\n",
    "\n",
    "group by 1\n",
    "\n",
    "order by 1 \n",
    "\n",
    "\"\"\").toPandas().describe()"
   ]
  },
  {
   "cell_type": "code",
   "execution_count": 12,
   "id": "c95c4515-6f49-4c7f-8e9b-47342a5f41d1",
   "metadata": {
    "tags": [
     "remove_cell"
    ]
   },
   "outputs": [
    {
     "name": "stdout",
     "output_type": "stream",
     "text": [
      "[NbConvertApp] WARNING | Config option `kernel_spec_manager_class` not recognized by `NbConvertApp`.\n",
      "[NbConvertApp] Converting notebook MUSE.ipynb to html\n",
      "[NbConvertApp] Writing 611091 bytes to MUSE.html\n"
     ]
    }
   ],
   "source": [
    "!jupyter nbconvert --to html MUSE.ipynb \\\n",
    "--TagRemovePreprocessor.remove_cell_tags='{\"remove_cell\"}'\\\n",
    "--TagRemovePreprocessor.remove_all_outputs_tags='{\"remove_output\"}'\\\n",
    "--TagRemovePreprocessor.remove_input_tags='{\"remove_input\"}'"
   ]
  },
  {
   "cell_type": "code",
   "execution_count": null,
   "id": "ef50650e-bafa-4e46-8a6e-f1595cce12bb",
   "metadata": {},
   "outputs": [],
   "source": []
  }
 ],
 "metadata": {
  "kernelspec": {
   "display_name": "Python 3 (ipykernel)",
   "language": "python",
   "name": "python3"
  },
  "language_info": {
   "codemirror_mode": {
    "name": "ipython",
    "version": 3
   },
   "file_extension": ".py",
   "mimetype": "text/x-python",
   "name": "python",
   "nbconvert_exporter": "python",
   "pygments_lexer": "ipython3",
   "version": "3.10.6"
  }
 },
 "nbformat": 4,
 "nbformat_minor": 5
}
